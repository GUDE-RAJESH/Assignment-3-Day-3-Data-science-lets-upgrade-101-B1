{
 "cells": [
  {
   "cell_type": "code",
   "execution_count": 2,
   "metadata": {},
   "outputs": [
    {
     "name": "stdout",
     "output_type": "stream",
     "text": [
      "[ 2  5  8 11 14 17 20 23 26 29 32 35 38 41 44 47]\n"
     ]
    }
   ],
   "source": [
    "#QUESTION (1)\n",
    "import numpy as np\n",
    "array1=np.arange(2,50,3)\n",
    "print(array1)"
   ]
  },
  {
   "cell_type": "code",
   "execution_count": 16,
   "metadata": {},
   "outputs": [
    {
     "name": "stdout",
     "output_type": "stream",
     "text": [
      "[1 9 3 8 5]\n",
      "[ 6 18  8 12  0]\n",
      "[ 1  9  3  8  5  6 18  8 12  0]\n",
      "[ 0  1  3  5  6  8  8  9 12 18]\n"
     ]
    }
   ],
   "source": [
    "#QUESTION (2)\n",
    "import numpy as np\n",
    "list1=[1,9,3,8,5]\n",
    "list2=[6,18,8,12,0]\n",
    "#converting lists to arrays\n",
    "array1=np.array(list1)\n",
    "array2=np.array(list2)\n",
    "print(array1)\n",
    "print(array2)\n",
    "#concatenate the arrays\n",
    "arr=np.concatenate((array1,array2))\n",
    "print(arr)\n",
    "#sort the arrays\n",
    "print(np.sort(arr))"
   ]
  },
  {
   "cell_type": "code",
   "execution_count": 21,
   "metadata": {},
   "outputs": [
    {
     "name": "stdout",
     "output_type": "stream",
     "text": [
      "[[1 2 3]\n",
      " [4 5 6]\n",
      " [7 8 9]]\n",
      "(3, 3)\n",
      "9\n"
     ]
    }
   ],
   "source": [
    "#QUESTION (3)\n",
    "import numpy as np\n",
    "array1=np.array([[1,2,3],[4,5,6],[7,8,9]])\n",
    "print(array1)\n",
    "#dimensions of ndarray \n",
    "print(array1.shape)\n",
    "#size\n",
    "print(array1.size)"
   ]
  },
  {
   "cell_type": "code",
   "execution_count": 51,
   "metadata": {},
   "outputs": [
    {
     "name": "stdout",
     "output_type": "stream",
     "text": [
      "[1 2 3 4 5 6]\n",
      "[[1 2 3]\n",
      " [4 5 6]]\n",
      "[0 1 2 3 4 5 6 7 8]\n",
      "[[0]\n",
      " [1]\n",
      " [2]\n",
      " [3]\n",
      " [4]\n",
      " [5]\n",
      " [6]\n",
      " [7]\n",
      " [8]]\n",
      "(3, 1, 4)\n"
     ]
    }
   ],
   "source": [
    "#QUESTION (4)\n",
    "import numpy as np\n",
    "#Use numpy. reshape() to reshape a 1D NumPy array to a 2D NumPy array.\n",
    "array11=np.array([1,2,3,4,5,6])\n",
    "print(array11)\n",
    "print(array11.reshape(2,3))\n",
    "\n",
    "#np.newaxis  , np.expand_dims\n",
    "array2=np.arange(9)\n",
    "print(array2)\n",
    "print(array2[:, np.newaxis])\n",
    "\n",
    "\n",
    "x = np.zeros((3, 4)) \n",
    "y = np.expand_dims(x, axis=1).shape \n",
    "print(y) "
   ]
  },
  {
   "cell_type": "code",
   "execution_count": 57,
   "metadata": {},
   "outputs": [
    {
     "name": "stdout",
     "output_type": "stream",
     "text": [
      "[[11 22 33]\n",
      " [44 55 66]]\n",
      "[11 22 33 44 55 66]\n",
      "[[11 22 33]\n",
      " [44 55 66]]\n",
      "[[1 2 3]\n",
      " [4 5 6]\n",
      " [7 8 9]]\n",
      "[1 2 3 4 5 6 7 8 9]\n",
      "[[1 2 3]\n",
      " [4 5 6]\n",
      " [7 8 9]]\n"
     ]
    }
   ],
   "source": [
    "#QUESTION (5)\n",
    "import numpy as np\n",
    "array22=np.array([[11,22,33],[44,55,66]])\n",
    "array33=np.array([[1,2,3],[4,5,6],[7,8,9]])\n",
    "print(array22)\n",
    "\n",
    "\n",
    "#vstack,hstack\n",
    "print(np.hstack(array22))\n",
    "print(np.vstack(array22))\n",
    "\n",
    "print(array33)\n",
    "print(np.hstack(array33))\n",
    "print(np.vstack(array33))"
   ]
  },
  {
   "cell_type": "code",
   "execution_count": 124,
   "metadata": {},
   "outputs": [
    {
     "name": "stdout",
     "output_type": "stream",
     "text": [
      "['abc', 'pqr', 'abc', 'pqr', 'efg']\n",
      "2\n"
     ]
    },
    {
     "data": {
      "text/plain": [
       "array(['abc', 'efg', 'pqr'], dtype='<U3')"
      ]
     },
     "execution_count": 124,
     "metadata": {},
     "output_type": "execute_result"
    }
   ],
   "source": [
    "#QUESTION (6)\n",
    "import numpy as np\n",
    "list1=['abc','pqr','abc','pqr','efg']\n",
    "print(list1)\n",
    "\n",
    "# to get unique items and counts of unique items\n",
    "print(list1.count('abc'))\n",
    "np.unique(list1)"
   ]
  },
  {
   "cell_type": "code",
   "execution_count": null,
   "metadata": {},
   "outputs": [],
   "source": []
  }
 ],
 "metadata": {
  "kernelspec": {
   "display_name": "Python 3",
   "language": "python",
   "name": "python3"
  },
  "language_info": {
   "codemirror_mode": {
    "name": "ipython",
    "version": 3
   },
   "file_extension": ".py",
   "mimetype": "text/x-python",
   "name": "python",
   "nbconvert_exporter": "python",
   "pygments_lexer": "ipython3",
   "version": "3.8.3"
  }
 },
 "nbformat": 4,
 "nbformat_minor": 4
}
